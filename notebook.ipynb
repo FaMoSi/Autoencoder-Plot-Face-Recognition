{
 "cells": [
  {
   "cell_type": "code",
   "execution_count": null,
   "metadata": {},
   "outputs": [],
   "source": []
  },
  {
   "cell_type": "raw",
   "metadata": {},
   "source": [
    "# plot_face_recognition.py\n",
    "## Faces recognition example using eigenfaces and SVMs"
   ]
  },
  {
   "cell_type": "code",
   "execution_count": null,
   "metadata": {},
   "outputs": [],
   "source": [
    "from time import time\n",
    "\n",
    "import matplotlib.pyplot as plt\n",
    "\n",
    "from keras.layers import Lambda, Input, Dense\n",
    "from keras.models import Model\n",
    "from keras.datasets import mnist\n",
    "from keras.losses import mse, binary_crossentropy\n",
    "from keras.utils import plot_model\n",
    "from keras.objectives import binary_crossentropy\n",
    "from keras import backend as K\n",
    "\n",
    "from sklearn.model_selection import train_test_split\n",
    "from sklearn.model_selection import GridSearchCV\n",
    "from sklearn.datasets import fetch_lfw_people\n",
    "from sklearn.datasets import load_digits\n",
    "from sklearn.metrics import classification_report\n",
    "from sklearn.metrics import confusion_matrix\n",
    "from sklearn.decomposition import PCA\n",
    "from sklearn.svm import SVC\n",
    "\n",
    "import numpy as np\n",
    "\n",
    "import os\n",
    "\n",
    "def plot_results(models,\n",
    "                 data,\n",
    "                 batch_size=128,\n",
    "                 model_name=\"vae_mnist\"):\n",
    "    \"\"\"Plots labels and MNIST digits as a function of the 2D latent vector\n",
    "    # Arguments\n",
    "        models (tuple): encoder and decoder models\n",
    "        data (tuple): test data and label\n",
    "        batch_size (int): prediction batch size\n",
    "        model_name (string): which model is using this function\n",
    "    \"\"\"\n",
    "\n",
    "    encoder, decoder = models\n",
    "    x_test, y_test = data\n",
    "\n",
    "    # display a 2D plot of the digit classes in the latent space\n",
    "    z_mean, _, _ = encoder.predict(x_test,\n",
    "                                   batch_size=batch_size)\n",
    "    plt.figure(figsize=(12, 10))\n",
    "    plt.scatter(z_mean[:, 0], z_mean[:, 1], c=y_test)\n",
    "    plt.colorbar()\n",
    "    plt.xlabel(\"z[0]\")\n",
    "    plt.ylabel(\"z[1]\")\n",
    "    plt.show()\n",
    "\n",
    "def extract_data(min_faces_per_person):\n",
    "    # #############################################################################\n",
    "    # Download the data, if not already on disk and load it as numpy arrays\n",
    "\n",
    "    lfw_people = fetch_lfw_people(min_faces_per_person=min_faces_per_person, resize=0.4)\n",
    "\n",
    "    # introspect the images arrays to find the shapes (for plotting)\n",
    "    n_samples, h, w = lfw_people.images.shape\n",
    "\n",
    "    # for machine learning we use the 2 data directly (as relative pixel\n",
    "    # positions info is ignored by this model)\n",
    "    X = lfw_people.data\n",
    "    n_features = X.shape[1]\n",
    "\n",
    "    # the label to predict is the id of the person\n",
    "    y = lfw_people.target\n",
    "    target_names = lfw_people.target_names\n",
    "    n_classes = target_names.shape[0]\n",
    "\n",
    "    print(\"Total dataset size:\")\n",
    "    print(\"n_samples: %d\" % n_samples)\n",
    "    print(\"n_features: %d\" % n_features)\n",
    "    print(\"n_classes: %d\" % n_classes)\n",
    "\n",
    "\n",
    "    # #############################################################################\n",
    "    # Split into a training set and a test set using a stratified k fold\n",
    "\n",
    "    # split into a training and testing set\n",
    "    X_train, X_test, y_train, y_test = train_test_split(\n",
    "        X, y, test_size=0.25, random_state=42)\n",
    "\n",
    "    return X_train, X_test, y_train, y_test, h, w, n_classes, target_names\n",
    "\n",
    "def pca(X_train, X_test, h, w, n_components):\n",
    "\n",
    "    # #############################################################################\n",
    "    # Compute a PCA (eigenfaces) on the face dataset (treated as unlabeled\n",
    "    # dataset): unsupervised feature extraction / dimensionality reduction\n",
    "\n",
    "    print(\"Extracting the top %d eigenfaces from %d faces\"\n",
    "          % (n_components, X_train.shape[0]))\n",
    "    t0 = time()\n",
    "    pca = PCA(n_components=n_components, svd_solver='randomized',\n",
    "              whiten=True).fit(X_train)\n",
    "    print(\"done in %0.3fs\" % (time() - t0))\n",
    "\n",
    "    eigenfaces = pca.components_.reshape((n_components, h, w))\n",
    "\n",
    "    print(\"Projecting the input data on the eigenfaces orthonormal basis\")\n",
    "    t0 = time()\n",
    "    X_train_pca = pca.transform(X_train)\n",
    "    X_test_pca = pca.transform(X_test)\n",
    "    print(\"done in %0.3fs\" % (time() - t0))\n",
    "    return X_train_pca, X_test_pca, eigenfaces\n",
    "\n",
    "def svm(X_train_pca, y_train, X_test_pca, y_test, n_classes, target_names):\n",
    "    # #############################################################################\n",
    "    # Train a SVM classification model\n",
    "\n",
    "    print(\"Fitting the classifier to the training set\")\n",
    "    t0 = time()\n",
    "    param_grid = {'C': [1e3, 5e3, 1e4, 5e4, 1e5],\n",
    "                  'gamma': [0.0001, 0.0005, 0.001, 0.005, 0.01, 0.1], }\n",
    "    clf = GridSearchCV(SVC(kernel='rbf', class_weight='balanced'),\n",
    "                       param_grid, cv=5, iid=False)\n",
    "    clf = clf.fit(X_train_pca, y_train)\n",
    "    print(\"done in %0.3fs\" % (time() - t0))\n",
    "    print(\"Best estimator found by grid search:\")\n",
    "    print(clf.best_estimator_)\n",
    "    # #############################################################################\n",
    "    # Quantitative evaluation of the model quality on the test set\n",
    "\n",
    "    print(\"Predicting people's names on the test set\")\n",
    "    t0 = time()\n",
    "    y_pred = clf.predict(X_test_pca)\n",
    "    print(\"done in %0.3fs\" % (time() - t0))\n",
    "\n",
    "    print(classification_report(y_test, y_pred, target_names=target_names))\n",
    "    print(confusion_matrix(y_test, y_pred, labels=range(n_classes)))"
   ]
  },
  {
   "cell_type": "markdown",
   "metadata": {},
   "source": [
    "# Task 1.1 - Understanding SVMs and hyperparameters\n",
    "## Support Vector Machine and hyperparameters\n",
    "Super Vector Machine (SVM) is a machine learning model that is used both for classification and regression. \n",
    "The objective of the SVM algorithm is to find an hyperplane to separate data of distinct classes. Choose how to separate this classes is possible changing the hyperparameters of the SVM.\n",
    "The main hyperparameters of a SVM are:\n",
    "- **Kernel**: kernel parameters selects the type of hyperplane used to separate the data. Using ‘linear’ will use a linear hyperplane (a line in the case of 2D data). ‘rbf’ and ‘poly’ uses a non linear hyperplane.\n",
    "\n",
    "- **C**: is the Cost parameter of the error term. It controls the trade off between smooth decision boundary and classifying training points correctly. A large value of C means you will get more intricate decision curves trying to fit in all the points. This may lead to overfitting.\n",
    "\n",
    "- **Gamma**: defines how far the influence of a single training example reaches. If the value of Gamma is high, then the decision boundary will depend on points close to the decision boundary. If the value of Gamma is low, then far away points carry more weights than nearer points and thus the decision boundary becomes more like a straight line.\n",
    "\n",
    "The value of gamma and C should not be very high because it leads to the overfitting and it shouldn’t be very small (underfitting). Thus we need to choose the optimal value of C and Gamma in order to get a good fit.\n",
    "\n",
    "## Grid Search and best set of hyperparameters\n",
    "Grid search is the process of performing hyperparameter tuning in order to determine the optimal hyperparameter values.\n",
    "\n",
    "This is a python code snippet of grid search using GridSearchCV of the \"sklearn\" library:"
   ]
  },
  {
   "cell_type": "code",
   "execution_count": null,
   "metadata": {},
   "outputs": [],
   "source": [
    "# Loading the Digits dataset\n",
    "digits = load_digits()\n",
    "\n",
    "# To apply an classifier on this data, we need to flatten the image, to\n",
    "# turn the data in a (samples, feature) matrix:\n",
    "n_samples = len(digits.images)\n",
    "X = digits.images.reshape((n_samples, -1))\n",
    "y = digits.target\n",
    "\n",
    "print(\"Finding best set of hyperparameter\")\n",
    "# Split the dataset in two equal parts\n",
    "X_train, X_test, y_train, y_test = train_test_split(\n",
    "    X, y, test_size=0.5, random_state=0)\n",
    "\n",
    "param_grid = {'C': [1e3, 5e3, 1e4, 5e4, 1e5],\n",
    "              'gamma': [0.0001, 0.0005, 0.001, 0.005, 0.01, 0.1], }\n",
    "clf = GridSearchCV(SVC(kernel='rbf', class_weight='balanced'),\n",
    "                   param_grid, cv=5, iid=False)"
   ]
  },
  {
   "cell_type": "markdown",
   "metadata": {},
   "source": [
    "The first parameter of GridSearchCV is the **estimator** that requires the kernel used for the hyperparameter tuning process (in this case an 'rbf' kernel is used).\n",
    "The **param_grid** parameter requires a list of parameters and the range of values for each parameter of the specified estimator.\n",
    "The GridSearchCV function search for the best set of hyperparameters performing a cross validation process."
   ]
  },
  {
   "cell_type": "code",
   "execution_count": null,
   "metadata": {},
   "outputs": [],
   "source": [
    "print(\"Fitting the classifier to the training set\")\n",
    "clf = clf.fit(X_train, y_train)\n",
    "print(\"Best estimator found by grid search:\")\n",
    "print(clf.best_estimator_)"
   ]
  },
  {
   "cell_type": "markdown",
   "metadata": {},
   "source": [
    "Then is possible to use the best set of hyperparameter values, chosen in the grid search, for fitting training data."
   ]
  },
  {
   "attachments": {
    "variance_face.png": {
     "image/png": "[encoded data removed]"
    }
   },
   "cell_type": "markdown",
   "metadata": {},
   "source": [
    "## How the selection of features changes the results of the system\n",
    "Feature extraction is a process of dimensionality reduction by which an initial set of raw data is reduced to more manageable groups for processing. In this lecture it is used the Principal Component Analysis (PCA).\n",
    "### Number of components\n",
    "Using the PCA approach, is important to estimate how many components are needed to describe the data. This can be done by looking at the cumulative variance of these components to see how much of the data information the projection is preserving. In our face recognition example we have more than 3.000 components, looking at the cumulative variance of the first 150 components we see that these 150 components account for just over 90% of the variance [1]. This means that using these 150 components, we would recover most of the essential characteristics of the data.\n",
    "\n",
    "![variance_face.png](attachment:variance_face.png) image from *Python Data Science Handbook* [1]\n",
    "\n",
    "\n"
   ]
  },
  {
   "cell_type": "markdown",
   "metadata": {},
   "source": [
    "### Apply the PCA on the whole dataset containing images of many more persons\n",
    "In our example we take from the dataset the picture of the persons for which we have more than 70 faces. Decreasing this parameter, will lead to have a more large dataset with more person, but for each person we have few images. This leads to a decreasing accurance in the face recognition process."
   ]
  },
  {
   "cell_type": "markdown",
   "metadata": {},
   "source": [
    "### Results\n",
    "Below is possible to execute the lecture example with different **#n_components** and **#min_face_per_person**. Looking at the result grids is possible to see how decreasing the #components and the #min_face_per_person (incresing number of faces) decreas the face recognition accurance. Decreasing the #min_face_per_person we have more images for the training process but for the person for which we have few faces, the prediction is less accurate."
   ]
  },
  {
   "cell_type": "markdown",
   "metadata": {},
   "source": [
    "#### **n_components=150** **min_faces_per_person=70**"
   ]
  },
  {
   "cell_type": "code",
   "execution_count": null,
   "metadata": {},
   "outputs": [],
   "source": [
    "print(\"#n_components = 150\")\n",
    "print(\"#min_faces_per_person = 70\")\n",
    "n_components = 150\n",
    "min_faces_per_person = 70\n",
    "X_train, X_test, y_train, y_test, h, w, n_classes, target_names = extract_data(min_faces_per_person)\n",
    "X_train_pca, X_test_pca, eigenfaces = pca(X_train, X_test, h, w, n_components)\n",
    "svm(X_train_pca, y_train, X_test_pca, y_test, n_classes, target_names)"
   ]
  },
  {
   "cell_type": "markdown",
   "metadata": {},
   "source": [
    "#### **n_components=150** **min_faces_per_person=30**"
   ]
  },
  {
   "cell_type": "code",
   "execution_count": null,
   "metadata": {},
   "outputs": [],
   "source": [
    "print(\"#n_components = 150\")\n",
    "print(\"#min_faces_per_person = 30\")\n",
    "n_components = 150\n",
    "min_faces_per_person = 30\n",
    "X_train, X_test, y_train, y_test, h, w, n_classes, target_names = extract_data(min_faces_per_person)\n",
    "X_train_pca, X_test_pca, eigenfaces = pca(X_train, X_test, h, w, n_components)\n",
    "svm(X_train_pca, y_train, X_test_pca, y_test, n_classes, target_names)"
   ]
  },
  {
   "cell_type": "markdown",
   "metadata": {},
   "source": [
    "#### **n_components=30** **min_faces_per_person=70**"
   ]
  },
  {
   "cell_type": "code",
   "execution_count": null,
   "metadata": {},
   "outputs": [],
   "source": [
    "print(\"#n_components = 30\")\n",
    "print(\"#min_faces_per_person = 70\")\n",
    "n_components = 30\n",
    "min_faces_per_person = 70\n",
    "X_train, X_test, y_train, y_test, h, w, n_classes, target_names = extract_data(min_faces_per_person)\n",
    "X_train_pca, X_test_pca, eigenfaces = pca(X_train, X_test, h, w, n_components)\n",
    "svm(X_train_pca, y_train, X_test_pca, y_test, n_classes, target_names)"
   ]
  },
  {
   "cell_type": "markdown",
   "metadata": {},
   "source": [
    "#### **n_components=75** **min_faces_per_person=45**"
   ]
  },
  {
   "cell_type": "code",
   "execution_count": null,
   "metadata": {},
   "outputs": [],
   "source": [
    "print(\"#n_components = 75\")\n",
    "print(\"#min_faces_per_person = 45\")\n",
    "n_components = 75\n",
    "min_faces_per_person = 45\n",
    "X_train, X_test, y_train, y_test, h, w, n_classes, target_names = extract_data(min_faces_per_person)\n",
    "X_train_pca, X_test_pca, eigenfaces = pca(X_train, X_test, h, w, n_components)\n",
    "svm(X_train_pca, y_train, X_test_pca, y_test, n_classes, target_names)"
   ]
  },
  {
   "cell_type": "markdown",
   "metadata": {},
   "source": [
    "# Task 1.2 - Learning Features as an Input for Classification\n",
    "## Autoencoder ( 2 layers)\n",
    "The feature extraction part of the approach (PCA) should be replaced. I'll use the **latent space** of a 2 layers  autoencoder trained in an unsupervised fashion."
   ]
  },
  {
   "cell_type": "code",
   "execution_count": null,
   "metadata": {},
   "outputs": [],
   "source": [
    "lfw_people = fetch_lfw_people(min_faces_per_person=70, resize=0.4)\n",
    "\n",
    "x = lfw_people.data\n",
    "y = lfw_people.target\n",
    "\n",
    "x_train_orig, x_test_orig, y_train_orig, y_test_orig = train_test_split(x, y, test_size=0.25, random_state=42)\n",
    "n_samples, h, w = lfw_people.images.shape\n",
    "\n",
    "# the label to predict is the id of the person\n",
    "y = lfw_people.target\n",
    "target_names = lfw_people.target_names\n",
    "n_classes = target_names.shape[0]\n",
    "\n",
    "original_dim = h * w\n",
    "\n",
    "idx = np.arange(x_train_orig.shape[0])\n",
    "np.random.shuffle(idx)\n",
    "x_train = np.zeros(shape=(x_train_orig.shape[0], x_train_orig.shape[1]))\n",
    "y_train = np.zeros(shape=(x_train_orig.shape[0],))\n",
    "for i in range(0, x_train_orig.shape[0]):\n",
    "    x_train[i] = x_train_orig[ idx[i] ]\n",
    "    y_train[i] = y_train_orig[ idx[i] ]\n",
    "\n",
    "idx = np.arange(x_test_orig.shape[0])\n",
    "np.random.shuffle(idx)\n",
    "x_test = np.zeros(shape=(x_test_orig.shape[0], x_test_orig.shape[1]))\n",
    "y_test = np.zeros(shape=(x_test_orig.shape[0],))\n",
    "for i in range(0, x_test_orig.shape[0]):\n",
    "    x_test[i] = x_test_orig[ idx[i] ]\n",
    "    y_test[i] = y_test_orig[ idx[i] ]\n",
    "\n",
    "x_train = x_train.astype('float32') / 255.\n",
    "x_test = x_test.astype('float32') / 255.\n",
    "\n",
    "intermediate_dim = 512\n",
    "batch_size = 100\n",
    "latent_dim = 150\n",
    "epochs = 50\n",
    "\n",
    "inputs = Input(shape=(original_dim,))\n",
    "\n",
    "latent_space = Dense(latent_dim, activation='relu')(input)\n",
    "\n",
    "# encoder, from inputs to latent space\n",
    "encoder = Model(inputs, latent_space, name=\"encoder\")\n",
    "encoder.summary()\n",
    "\n",
    "output = Dense(original_dim, activation='sigmoid')(latent_space)\n",
    "\n",
    "def vae_loss(x, x_decoded_mean):\n",
    "    xent_loss = binary_crossentropy(x, x_decoded_mean)\n",
    "    kl_loss = - 0.5 * K.mean(1 + z_log_sigma - K.square(z_mean) - K.exp(z_log_sigma), axis=-1)\n",
    "    return xent_loss + kl_loss\n",
    "\n",
    "# end-to-end autoencoder\n",
    "vae = Model(inputs, output, name=\"vae\")\n",
    "vae.compile(optimizer='Adam', loss='binary_crossentropy', metrics=[\"accuracy\"])\n",
    "vae.summary()\n",
    "\n",
    "print(\"Training the autoencoder to the training set\")\n",
    "vae.fit(x_train, x_train,\n",
    "        epochs=epochs,\n",
    "        batch_size=batch_size,\n",
    "        validation_data=(x_test, x_test))\n",
    "\n",
    "\n",
    "x_train_latentspace = encoder.predict(x_train, batch_size)\n",
    "x_test_latentspace = encoder.predict(x_test, batch_size)\n",
    "\n",
    "print(\"Fitting the classifier to the training set\")\n",
    "t0 = time()\n",
    "param_grid = {'C': [1, 5, 10, 1e2, 5e2, 1e3, 5e3, 1e4, 5e4, 1e5],\n",
    "              'gamma': [0.0001, 0.0005, 0.001, 0.005, 0.01, 0.1, 0.5], }\n",
    "clf = GridSearchCV(SVC(kernel='rbf', class_weight='balanced'),\n",
    "                   param_grid, cv=5, iid=False)\n",
    "clf = clf.fit(x_train_latentspace, y_train)\n",
    "\n",
    "print(\"done in %0.3fs\" % (time() - t0))\n",
    "print(\"Best estimator found by grid search:\")\n",
    "print(clf.best_estimator_)\n",
    "\n",
    "print(\"Predicting people's names on the test set\")\n",
    "t0 = time()\n",
    "y_pred = clf.predict(x_test_latentspace)\n",
    "print(\"done in %0.3fs\" % (time() - t0))\n",
    "\n",
    "print(classification_report(y_test, y_pred, target_names=target_names))\n",
    "print(confusion_matrix(y_test, y_pred, labels=range(n_classes)))"
   ]
  },
  {
   "cell_type": "markdown",
   "metadata": {},
   "source": [
    "## Variational autoencoder\n",
    "The feature extraction part of the approach (PCA) should be replaced. I'll use the **latent space** of a variational autoencoder trained in an unsupervised fashion. "
   ]
  },
  {
   "cell_type": "code",
   "execution_count": null,
   "metadata": {},
   "outputs": [],
   "source": [
    "#Extract data from dataset\n",
    "min_faces_per_person = 70\n",
    "x_train, x_test, y_train, y_test, h, w, n_classes, target_names = extract_data(min_faces_per_person)\n",
    "\n",
    "#Prepare dataset\n",
    "original_dim = h * w\n",
    "x_train = x_train.astype('float32') / 255.\n",
    "x_test = x_test.astype('float32') / 255.\n",
    "\n",
    "#Layers dimension\n",
    "#Latent space dimension is 150 as request from the exercise\n",
    "intermediate_dim = 512\n",
    "latent_dim = 150\n",
    "batch_size = 128\n",
    "epochs = 50"
   ]
  },
  {
   "cell_type": "markdown",
   "metadata": {},
   "source": [
    "Instantiate the **encoder** network:"
   ]
  },
  {
   "cell_type": "code",
   "execution_count": null,
   "metadata": {},
   "outputs": [],
   "source": [
    "def sampling(args):\n",
    "    z_mean, z_log_var = args\n",
    "    batch = K.shape(z_mean)[0]\n",
    "    dim = K.int_shape(z_mean)[1]\n",
    "    # by default, random_normal has mean = 0 and std = 1.0\n",
    "    epsilon = K.random_normal(shape=(batch, dim))\n",
    "    return z_mean + K.exp(0.5 * z_log_var) * epsilon\n",
    "\n",
    "inputs = Input(shape=(original_dim,))\n",
    "h = Dense(intermediate_dim, activation='relu')(inputs)\n",
    "z_mean = Dense(latent_dim)(h)\n",
    "z_log_sigma = Dense(latent_dim)(h)\n",
    "z = Lambda(sampling, output_shape=(latent_dim, ), name='z')([z_mean, z_log_sigma])\n",
    "\n",
    "# encoder, from inputs to latent space\n",
    "encoder = Model(inputs, [z_mean, z_log_sigma, z], name=\"encoder\")\n",
    "encoder.summary()"
   ]
  },
  {
   "cell_type": "markdown",
   "metadata": {},
   "source": [
    "Instantiate the **decoder** network:"
   ]
  },
  {
   "cell_type": "code",
   "execution_count": null,
   "metadata": {},
   "outputs": [],
   "source": [
    "encoded_input = Input(shape=(latent_dim,))\n",
    "decoder_h = Dense(intermediate_dim, activation='relu')(encoded_input)\n",
    "decoder_mean = Dense(original_dim, activation='sigmoid')(decoder_h)\n",
    "\n",
    "# decoder, from latent space to outputs\n",
    "decoder = Model(encoded_input, decoder_mean, name=\"decoder\")\n",
    "decoder.summary()"
   ]
  },
  {
   "cell_type": "markdown",
   "metadata": {},
   "source": [
    "Instantiate the **autoencoder**:"
   ]
  },
  {
   "cell_type": "code",
   "execution_count": null,
   "metadata": {},
   "outputs": [],
   "source": [
    "def vae_loss(x, x_decoded_mean):\n",
    "    xent_loss = binary_crossentropy(x, x_decoded_mean)\n",
    "    kl_loss = - 0.5 * K.mean(1 + z_log_sigma - K.square(z_mean) - K.exp(z_log_sigma), axis=-1)\n",
    "    return xent_loss + kl_loss\n",
    "\n",
    "outputs = decoder(encoder(inputs)[2])\n",
    "\n",
    "# end-to-end autoencoder\n",
    "vae = Model(inputs, outputs, name=\"vae\")\n",
    "vae.compile(optimizer='rmsprop', loss=vae_loss, metrics=[\"accuracy\"])\n",
    "vae.summary()"
   ]
  },
  {
   "cell_type": "markdown",
   "metadata": {},
   "source": [
    "Train the **autoencoder**:"
   ]
  },
  {
   "cell_type": "code",
   "execution_count": null,
   "metadata": {},
   "outputs": [],
   "source": [
    "vae.fit(x_train, x_train,\n",
    "        shuffle=True,\n",
    "        epochs=epochs,\n",
    "        batch_size=batch_size,\n",
    "        validation_data=(x_test, x_test))"
   ]
  },
  {
   "cell_type": "markdown",
   "metadata": {},
   "source": [
    "We now have a trained network. We'll use the encoder network as the feature extracion part. Last, train the Support Vector Machine with the provided features."
   ]
  },
  {
   "cell_type": "code",
   "execution_count": null,
   "metadata": {},
   "outputs": [],
   "source": [
    "x_train_latentspace, _, _ = encoder.predict(x_train, batch_size)\n",
    "x_test_latentspace, _, _ = encoder.predict(x_test, batch_size)\n",
    "\n",
    "svm(x_train_latentspace, y_train, x_test_latentspace, y_test, n_classes, target_names)"
   ]
  },
  {
   "cell_type": "markdown",
   "metadata": {},
   "source": [
    "## Compare the results to the original approach \n",
    "The results obtained using the encoder network are not the expected one. Every faces is associated to Hugo Chavez. This is a bad result, probably due to an incorrect implementation of the autoencoder. It seems the network is not trained well but I can't find out where is the problem in my code."
   ]
  }
 ],
 "metadata": {
  "kernelspec": {
   "display_name": "Python 3",
   "language": "python",
   "name": "python3"
  },
  "language_info": {
   "codemirror_mode": {
    "name": "ipython",
    "version": 3
   },
   "file_extension": ".py",
   "mimetype": "text/x-python",
   "name": "python",
   "nbconvert_exporter": "python",
   "pygments_lexer": "ipython3",
   "version": "3.8.0"
  }
 },
 "nbformat": 4,
 "nbformat_minor": 2
}
